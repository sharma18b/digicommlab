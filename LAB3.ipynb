{
 "cells": [
  {
   "cell_type": "code",
   "execution_count": 1,
   "metadata": {},
   "outputs": [],
   "source": [
    "import matplotlib.pyplot as plt\n",
    "import numpy as np\n",
    "from scipy import signal\n",
    "from scipy.io import wavfile\n",
    "import scipy.io"
   ]
  },
  {
   "cell_type": "markdown",
   "metadata": {},
   "source": [
    "# Question 1"
   ]
  },
  {
   "cell_type": "code",
   "execution_count": 3,
   "metadata": {
    "scrolled": true
   },
   "outputs": [
    {
     "data": {
      "image/png": "[encoded data removed]",
      "text/plain": [
       "<Figure size 432x288 with 1 Axes>"
      ]
     },
     "metadata": {
      "needs_background": "light"
     },
     "output_type": "display_data"
    }
   ],
   "source": [
    "samplerate, t = wavfile.read(\"dspvoice.wav\")\n",
    "tl = int(t.shape[0] / samplerate)\n",
    "sr = 8000\n",
    "y = scipy.signal.resample(t, int(tl*sr))[:,0]\n",
    "\n",
    "Ts = 5.0\n",
    "y = y[:int(Ts*sr)]\n",
    "t = np.linspace(0., Ts, int(Ts*sr)) \n",
    "\n",
    "plt.plot(t,y)\n",
    "plt.show()"
   ]
  },
  {
   "cell_type": "code",
   "execution_count": 3,
   "metadata": {},
   "outputs": [
    {
     "name": "stdout",
     "output_type": "stream",
     "text": [
      "For prediction length =  4  Processing gain =  0.00032213560927337137\n",
      "For prediction length =  8  Processing gain =  0.0004787800227015636\n",
      "For prediction length =  16  Processing gain =  0.0007735418536903521\n"
     ]
    }
   ],
   "source": [
    "blockT = 0.04\n",
    "chunk  = int(Ts/blockT)\n",
    "windowLength = int(len(y)/chunk)\n",
    "x = np.zeros_like(y)\n",
    "\n",
    "for predictionLength in [4,8,16]:\n",
    "    idx = 0\n",
    "    processingGain = 0.0\n",
    "    for i in range(chunk):\n",
    "        y_now = y[(windowLength*i) : windowLength*(i + 1)]\n",
    "\n",
    "        R = np.zeros((predictionLength, predictionLength))\n",
    "        q = np.zeros((predictionLength,1))\n",
    "        for i in range(predictionLength,len(y_now)):\n",
    "            x_pred = y_now[i - predictionLength : i].reshape((predictionLength,1))\n",
    "\n",
    "            R = R + np.matmul(x_pred, x_pred.T)\n",
    "            temp = y_now[i - predictionLength : i]*y_now[i]\n",
    "            q = q + temp.reshape((predictionLength,1))\n",
    "\n",
    "\n",
    "        R = R/(len(y_now) - predictionLength)\n",
    "        q = q/(len(y_now) - predictionLength)\n",
    "\n",
    "\n",
    "        w_optimal = np.matmul(np.linalg.pinv(R), q)\n",
    "\n",
    "        x_hat = np.zeros(len(y_now))\n",
    "        for i in range(predictionLength):\n",
    "            x[idx]=y_now[i]\n",
    "            idx+=1\n",
    "\n",
    "        for i in range(predictionLength,windowLength):\n",
    "            x_pred = y_now[i - predictionLength : i]\n",
    "            x[idx]=np.matmul(w_optimal.T, x_pred)\n",
    "            idx+=1\n",
    "\n",
    "\n",
    "    eta = y - x\n",
    "    processingGain = np.var(y_now)/np.var(eta)\n",
    "\n",
    "    print(\"For prediction length = \",predictionLength,\" Processing gain = \",processingGain)"
   ]
  },
  {
   "cell_type": "code",
   "execution_count": 16,
   "metadata": {},
   "outputs": [
    {
     "name": "stdout",
     "output_type": "stream",
     "text": [
      "For prediction length =  4  Processing gain =  109429.51134200403\n",
      "For prediction length =  8  Processing gain =  112706.1582068326\n",
      "For prediction length =  16  Processing gain =  1272787.7128289242\n"
     ]
    }
   ],
   "source": [
    "blockT = 0.04\n",
    "chunk  = int(Ts/blockT)\n",
    "windowLength = int(len(y)/chunk)\n",
    "var = np.zeros(chunk)\n",
    "varlist = []\n",
    "for predictionLength in [4,8,16]:\n",
    "    processingGain = 0.0\n",
    "    for i in range(chunk):\n",
    "        y_now = y[(windowLength*i) : windowLength*(i + 1)]\n",
    "\n",
    "        R = np.zeros((predictionLength, predictionLength))\n",
    "        q = np.zeros((predictionLength,1))\n",
    "        for j in range(predictionLength,len(y_now)):\n",
    "            x_pred = y_now[j - predictionLength : j].reshape((predictionLength,1))\n",
    "\n",
    "            R = R + np.matmul(x_pred, x_pred.T)\n",
    "            temp = y_now[j - predictionLength : j]*y_now[j]\n",
    "            q = q + temp.reshape((predictionLength,1))\n",
    "\n",
    "\n",
    "        R = R/(len(y_now) - predictionLength)\n",
    "        q = q/(len(y_now) - predictionLength)\n",
    "\n",
    "\n",
    "        w_optimal = np.matmul(np.linalg.pinv(R), q)\n",
    "\n",
    "        x_hat = np.zeros(len(y_now))\n",
    "        for j in range(predictionLength):\n",
    "            x_hat[j] = y_now[j]\n",
    "\n",
    "        for j in range(predictionLength,len(y_now)):\n",
    "            x_pred = y_now[j - predictionLength : j]\n",
    "            x_hat[j] = np.matmul(w_optimal.T, x_pred)\n",
    "\n",
    "\n",
    "        eta = y_now - x_hat\n",
    "        processingGain += np.var(y_now)/np.var(eta)\n",
    "        var[i]=np.var(y_now)/np.var(eta)\n",
    "    varlist.append(np.copy(var))\n",
    "    print(\"For prediction length = \",predictionLength,\" Processing gain = \",processingGain/chunk)"
   ]
  },
  {
   "cell_type": "code",
   "execution_count": 18,
   "metadata": {},
   "outputs": [
    {
     "data": {
      "text/plain": [
       "(56.289460482155256, 81.673885409993, 116.28203167503216)"
      ]
     },
     "execution_count": 18,
     "metadata": {},
     "output_type": "execute_result"
    }
   ],
   "source": [
    "np.mean(varlist[0][1:chunk]),np.mean(varlist[1][1:chunk]), np.mean(varlist[2][1:chunk])"
   ]
  },
  {
   "cell_type": "code",
   "execution_count": 34,
   "metadata": {
    "scrolled": true
   },
   "outputs": [
    {
     "data": {
      "image/png": "[encoded data removed]",
      "text/plain": [
       "<Figure size 432x288 with 1 Axes>"
      ]
     },
     "metadata": {
      "needs_background": "light"
     },
     "output_type": "display_data"
    },
    {
     "data": {
      "image/png": "[encoded data removed]",
      "text/plain": [
       "<Figure size 432x288 with 1 Axes>"
      ]
     },
     "metadata": {
      "needs_background": "light"
     },
     "output_type": "display_data"
    }
   ],
   "source": [
    "plt.plot([a*windowLength for a in range(1,chunk)],varlist[0][1:],'r')\n",
    "plt.show()\n",
    "plt.plot(t,y,'b')\n",
    "plt.show()"
   ]
  },
  {
   "cell_type": "code",
   "execution_count": null,
   "metadata": {},
   "outputs": [],
   "source": [
    "list(range(1,chunk)*windowLength)"
   ]
  },
  {
   "cell_type": "code",
   "execution_count": 5,
   "metadata": {},
   "outputs": [
    {
     "data": {
      "text/plain": [
       "([14218575.134058323,\n",
       "  2.026905741249789,\n",
       "  1.8348186439561325,\n",
       "  1.9810234206828268,\n",
       "  2.332298239675873,\n",
       "  1.4072019540503047,\n",
       "  1.8651688898817524,\n",
       "  1.7533355377019704,\n",
       "  1.200385892691178,\n",
       "  1.4706538685189698,\n",
       "  1.9370782928278711,\n",
       "  2.3519263461549866,\n",
       "  13.47482523331963,\n",
       "  4.4467144842454545,\n",
       "  2.264665828842702,\n",
       "  8.466686020117285,\n",
       "  1.6796475500632466,\n",
       "  1.280027905090353,\n",
       "  34.34749717574919,\n",
       "  49.000297514208356,\n",
       "  19.76466497942369,\n",
       "  72.77824024366886,\n",
       "  139.69758735445825,\n",
       "  774.4010979599549,\n",
       "  292.7576608559761,\n",
       "  540.9754400465525,\n",
       "  250.64822461211747,\n",
       "  272.5955243533577,\n",
       "  85.12065979995907,\n",
       "  27.114350349513757,\n",
       "  27.03888151982816,\n",
       "  12.543277431285972,\n",
       "  11.382503483507453,\n",
       "  2.657522406324968,\n",
       "  28.035150013048558,\n",
       "  48.2007347206225,\n",
       "  116.72694029526576,\n",
       "  118.75747945243351,\n",
       "  279.72517873458077,\n",
       "  57.038883304290415,\n",
       "  68.87440648081883,\n",
       "  32.79646395920612,\n",
       "  43.769108075839526,\n",
       "  30.87702470302009,\n",
       "  22.642499265430356,\n",
       "  89.53323981595504,\n",
       "  146.32718855089854,\n",
       "  123.16400732798334,\n",
       "  66.6513748872337,\n",
       "  18.187791861606453,\n",
       "  12.024408996231491,\n",
       "  11.739651088228127,\n",
       "  5.981697089678291,\n",
       "  2.315190092778784,\n",
       "  2.387814315643327,\n",
       "  1.78216836089599,\n",
       "  1.586356172990201,\n",
       "  2.0497273130151483,\n",
       "  2.0691536950875484,\n",
       "  4.322003196624969,\n",
       "  8.898869303835038,\n",
       "  2.1061604019754094,\n",
       "  9.492617286971903,\n",
       "  1.4863058570137586,\n",
       "  32.562236811050234,\n",
       "  28.49378121323441,\n",
       "  111.71484975052289,\n",
       "  158.45469405708712,\n",
       "  328.6514896828595,\n",
       "  208.99483803404402,\n",
       "  27.48922539628972,\n",
       "  24.723261327597356,\n",
       "  24.814977868949146,\n",
       "  17.879371212628484,\n",
       "  3.069003928365421,\n",
       "  6.850721145031337,\n",
       "  43.07576691238139,\n",
       "  60.169991583977804,\n",
       "  67.38519338306935,\n",
       "  47.77119761467995,\n",
       "  65.81289251403548,\n",
       "  34.517041574589705,\n",
       "  55.580169912678116,\n",
       "  69.82988301317216,\n",
       "  77.69906622198562,\n",
       "  51.29858000815191,\n",
       "  25.486249505439076,\n",
       "  21.33333893750723,\n",
       "  20.585643789783198,\n",
       "  29.43882971667167,\n",
       "  14.05025375197306,\n",
       "  4.953927948064333,\n",
       "  3.362625140560487,\n",
       "  5.538338855810676,\n",
       "  3.491515305929474,\n",
       "  1.956750864702965,\n",
       "  2.6117943299051327,\n",
       "  30.412884393080684,\n",
       "  37.76347151342101,\n",
       "  41.56551514473638,\n",
       "  294.02947206701026,\n",
       "  90.05085204491898,\n",
       "  160.6622653359942,\n",
       "  35.03199312199801,\n",
       "  16.04447949143276,\n",
       "  11.158934265680063,\n",
       "  10.416620816654811,\n",
       "  11.094177036031828,\n",
       "  12.883453684531373,\n",
       "  10.726384266987388,\n",
       "  13.540524563279376,\n",
       "  1.5937276667691878,\n",
       "  11.874493291949456,\n",
       "  30.84079804968175,\n",
       "  95.16396596957871,\n",
       "  237.10000453923362,\n",
       "  221.92609637321536,\n",
       "  54.393753358362105,\n",
       "  9.79038917500802,\n",
       "  12.623114850990337,\n",
       "  10.953855829967747,\n",
       "  15.201994382533332,\n",
       "  11.166930552709752,\n",
       "  1.460151857255682,\n",
       "  20.80232372469888,\n",
       "  40.89905248690523,\n",
       "  1.486517143147951,\n",
       "  1.6227142501776917,\n",
       "  1.5506751506352012,\n",
       "  1.7149259325621518],\n",
       " [14641264.63567034,\n",
       "  2.339091732308902,\n",
       "  1.9295007583548536,\n",
       "  2.1643940215171433,\n",
       "  3.994638396710598,\n",
       "  1.8572172520410373,\n",
       "  2.449448963243768,\n",
       "  1.9408088272229134,\n",
       "  1.450809932823525,\n",
       "  1.617599729383764,\n",
       "  2.1518751422108786,\n",
       "  2.5585186128412913,\n",
       "  14.903463993554347,\n",
       "  6.107404989886223,\n",
       "  2.7050189806974796,\n",
       "  10.70818018680378,\n",
       "  2.4470227258017605,\n",
       "  1.4756941669738488,\n",
       "  36.71680527506527,\n",
       "  116.54110419314958,\n",
       "  41.30995561086958,\n",
       "  74.94576281736322,\n",
       "  148.3249884420537,\n",
       "  917.8803884136314,\n",
       "  330.67122137243626,\n",
       "  553.844418281363,\n",
       "  293.09404151774214,\n",
       "  288.5805029843797,\n",
       "  92.38797119222103,\n",
       "  37.16522039660658,\n",
       "  30.739410933025262,\n",
       "  15.151289546188318,\n",
       "  13.115791425111302,\n",
       "  3.2737646970096974,\n",
       "  29.645927487083767,\n",
       "  58.03414496766648,\n",
       "  143.8800187990891,\n",
       "  166.79008570544207,\n",
       "  624.7822915745619,\n",
       "  74.87452339175559,\n",
       "  130.4182270673468,\n",
       "  66.9050360841008,\n",
       "  46.65168210822336,\n",
       "  40.492377274822026,\n",
       "  24.602704900918653,\n",
       "  96.85812708347054,\n",
       "  179.4917507631248,\n",
       "  134.37492510425358,\n",
       "  72.03152380118864,\n",
       "  18.70529703493,\n",
       "  13.00304810592651,\n",
       "  12.50738691546973,\n",
       "  6.4470707363934165,\n",
       "  2.4521480081041767,\n",
       "  2.463156767936029,\n",
       "  2.0539949853809927,\n",
       "  1.6519334253021658,\n",
       "  2.1696840329333273,\n",
       "  2.991403852430873,\n",
       "  5.190567914370156,\n",
       "  12.331027233869134,\n",
       "  2.423600584375318,\n",
       "  12.960618618516325,\n",
       "  2.2071451578968047,\n",
       "  48.884985810891976,\n",
       "  37.089398272092495,\n",
       "  233.60366927584596,\n",
       "  338.8652511018987,\n",
       "  533.013730812376,\n",
       "  224.86141936216933,\n",
       "  31.760818539251847,\n",
       "  39.46036521721598,\n",
       "  35.94092175971347,\n",
       "  22.156303379514203,\n",
       "  4.176842418816912,\n",
       "  7.239314592497596,\n",
       "  54.750836386768135,\n",
       "  67.29560259099998,\n",
       "  136.94624928684115,\n",
       "  121.3683527663805,\n",
       "  119.49518894229612,\n",
       "  35.52863005457693,\n",
       "  64.08889279322351,\n",
       "  110.48742460172794,\n",
       "  101.18937671261878,\n",
       "  83.13227876224501,\n",
       "  53.59826577773758,\n",
       "  36.172459221397915,\n",
       "  33.70557460236662,\n",
       "  37.87119485973543,\n",
       "  15.820392377834196,\n",
       "  6.1544290620959945,\n",
       "  5.053267998810732,\n",
       "  7.109086566988614,\n",
       "  4.719129702267812,\n",
       "  2.200208383633682,\n",
       "  3.3352828083798625,\n",
       "  79.60623788609834,\n",
       "  160.45170209441972,\n",
       "  135.92907647792657,\n",
       "  816.3852524930107,\n",
       "  151.78282955038293,\n",
       "  165.33843774956048,\n",
       "  44.0716357180299,\n",
       "  17.079740853582354,\n",
       "  12.162096461508304,\n",
       "  12.336431821951553,\n",
       "  13.414332498826434,\n",
       "  17.918097198381073,\n",
       "  16.033433780029295,\n",
       "  28.148654856124374,\n",
       "  2.5703319494973553,\n",
       "  25.976829718853008,\n",
       "  39.8996438431736,\n",
       "  133.06714469123847,\n",
       "  334.56566512529685,\n",
       "  317.111603527412,\n",
       "  76.78978626240975,\n",
       "  17.579329619144378,\n",
       "  16.288808735794575,\n",
       "  15.95266914143756,\n",
       "  26.636279761207764,\n",
       "  13.51098484593868,\n",
       "  6.658794238236061,\n",
       "  37.4049477978481,\n",
       "  89.53788244421943,\n",
       "  1.8898569126407638,\n",
       "  2.78658884440846,\n",
       "  1.824021888405067,\n",
       "  2.212189303417015],\n",
       " [165447402.28567415,\n",
       "  2.767817745640061,\n",
       "  2.256222855412226,\n",
       "  2.7034032396307834,\n",
       "  5.979043905781216,\n",
       "  3.2489948245772693,\n",
       "  3.5442463264762525,\n",
       "  3.6077759142924575,\n",
       "  1.8247684762476961,\n",
       "  2.439600775448326,\n",
       "  3.036557432760686,\n",
       "  3.2582966412975227,\n",
       "  20.33590972140398,\n",
       "  8.670168187665984,\n",
       "  3.3345786880972765,\n",
       "  12.270061693495208,\n",
       "  2.7773023546182665,\n",
       "  1.6086278104667817,\n",
       "  51.35735808239326,\n",
       "  155.4199995679117,\n",
       "  51.39168632488801,\n",
       "  88.37514095619801,\n",
       "  187.98307798086282,\n",
       "  1072.7399651320436,\n",
       "  407.9916276623556,\n",
       "  724.4222975649515,\n",
       "  432.4004609601618,\n",
       "  354.9341930326399,\n",
       "  113.20825893803665,\n",
       "  55.575953173512524,\n",
       "  50.54435724071514,\n",
       "  18.68915963463804,\n",
       "  16.865651710015918,\n",
       "  3.7540882155928017,\n",
       "  48.55464049637984,\n",
       "  97.34161730718458,\n",
       "  220.79414363148214,\n",
       "  282.3619549413739,\n",
       "  890.1945477149671,\n",
       "  94.17023013018239,\n",
       "  147.6894155090513,\n",
       "  111.648209481458,\n",
       "  79.81843073956762,\n",
       "  70.37272050802866,\n",
       "  38.724260478574095,\n",
       "  127.71939651344616,\n",
       "  330.37244745603016,\n",
       "  150.46229880506203,\n",
       "  94.23211076708132,\n",
       "  21.51037408897964,\n",
       "  15.968495915139323,\n",
       "  19.40109029876034,\n",
       "  8.435106748976255,\n",
       "  4.406482120887283,\n",
       "  2.9863980893308195,\n",
       "  2.3350237759734114,\n",
       "  1.991445937075823,\n",
       "  2.615021058442674,\n",
       "  4.068647225415308,\n",
       "  9.033253030610105,\n",
       "  18.514526807045055,\n",
       "  3.1004686038139337,\n",
       "  29.184422121335547,\n",
       "  2.9338216034907285,\n",
       "  89.8541002695172,\n",
       "  78.1034043439276,\n",
       "  356.0286470068605,\n",
       "  530.148288694055,\n",
       "  798.902593138117,\n",
       "  344.9991229341071,\n",
       "  46.08487264362661,\n",
       "  62.901774752456646,\n",
       "  79.369446374012,\n",
       "  29.68270189572952,\n",
       "  5.411036631713992,\n",
       "  8.887077601084476,\n",
       "  96.31982627615902,\n",
       "  128.70640798843112,\n",
       "  256.4446705380954,\n",
       "  191.1566053428555,\n",
       "  184.88007770384826,\n",
       "  46.54138235604044,\n",
       "  79.74591041243873,\n",
       "  139.31452182698644,\n",
       "  132.805852521677,\n",
       "  114.63310745316745,\n",
       "  67.77245750409253,\n",
       "  53.399370218589354,\n",
       "  47.986676140558025,\n",
       "  56.34267816055427,\n",
       "  21.286542307585826,\n",
       "  7.922393568471111,\n",
       "  10.23794502085706,\n",
       "  12.379696912237684,\n",
       "  9.010897282415065,\n",
       "  2.469808185428157,\n",
       "  4.414873742504458,\n",
       "  101.69471358331941,\n",
       "  201.1034933173201,\n",
       "  197.15298743444941,\n",
       "  1151.0055097549853,\n",
       "  209.34280495996532,\n",
       "  230.11037341010845,\n",
       "  65.73805699225292,\n",
       "  26.39138023896434,\n",
       "  22.493452199102105,\n",
       "  24.105659971938802,\n",
       "  24.263755683563883,\n",
       "  32.31694995112427,\n",
       "  32.51989935116123,\n",
       "  44.90166069353193,\n",
       "  3.547352458188057,\n",
       "  41.78434390852071,\n",
       "  88.81935922272632,\n",
       "  209.56419188583797,\n",
       "  448.8340211764433,\n",
       "  486.16492249942524,\n",
       "  117.63833477958597,\n",
       "  28.910749907727755,\n",
       "  46.69395948125203,\n",
       "  21.695019569741323,\n",
       "  40.57485154311798,\n",
       "  20.42314432146663,\n",
       "  8.592237060162578,\n",
       "  52.3957661074833,\n",
       "  114.35682959527598,\n",
       "  2.348673761635986,\n",
       "  3.647010495570495,\n",
       "  2.2372526787854943,\n",
       "  4.610945660838914])"
      ]
     },
     "execution_count": 5,
     "metadata": {},
     "output_type": "execute_result"
    }
   ],
   "source": [
    "var[:chunk], var[chunk:2*chunk], var[2*chunk:]"
   ]
  },
  {
   "cell_type": "markdown",
   "metadata": {},
   "source": [
    "# Question 2"
   ]
  },
  {
   "cell_type": "code",
   "execution_count": 6,
   "metadata": {
    "scrolled": true
   },
   "outputs": [
    {
     "name": "stdout",
     "output_type": "stream",
     "text": [
      "alpha =  2 max mod dxbydt =  5048.676396868623\n",
      "alpha =  5 max mod dxbydt =  2069.3016250972532\n",
      "alpha =  10 max mod dxbydt =  1036.8495389027648\n",
      "alpha =  100 max mod dxbydt =  103.73035642864852\n",
      "alpha =  200 max mod dxbydt =  51.86537696834239\n",
      "alpha =  500 max mod dxbydt =  20.74617668857536\n",
      "alpha =  1000 max mod dxbydt =  10.37309085419838\n"
     ]
    }
   ],
   "source": [
    "alpha =2\n",
    "for alpha in [2,5,10,100,200,500,1000]:\n",
    "    y_dash = scipy.signal.resample(y, int(Ts*sr*alpha))\n",
    "    print(\"alpha = \",alpha,\"max mod dxbydt = \",np.abs(y_dash[1:]-y_dash[:-1]).max())"
   ]
  },
  {
   "cell_type": "code",
   "execution_count": 7,
   "metadata": {},
   "outputs": [],
   "source": [
    "delta = 20\n",
    "vals = [10,100,200,350,500,1000]\n",
    "SNRs = []\n",
    "for alpha in vals:\n",
    "    y_dash = scipy.signal.resample(y, int(Ts*sr*alpha))\n",
    "    curr_sum = 0.0\n",
    "    output = np.zeros_like(y_dash)\n",
    "    for i,yi in enumerate(y_dash):\n",
    "        if curr_sum>=yi:\n",
    "            curr_sum-=delta\n",
    "        else:\n",
    "            curr_sum+=delta\n",
    "        output[i]=curr_sum\n",
    "        \n",
    "    P = np.mean(np.square(output))\n",
    "    mse = np.mean(np.square(output-y_dash))\n",
    "    SNRs.append(P/mse)"
   ]
  },
  {
   "cell_type": "code",
   "execution_count": 8,
   "metadata": {},
   "outputs": [
    {
     "data": {
      "image/png": "[encoded data removed]",
      "text/plain": [
       "<Figure size 432x288 with 1 Axes>"
      ]
     },
     "metadata": {
      "needs_background": "light"
     },
     "output_type": "display_data"
    }
   ],
   "source": [
    "plt.plot(vals,SNRs)\n",
    "plt.show()"
   ]
  },
  {
   "cell_type": "code",
   "execution_count": 9,
   "metadata": {},
   "outputs": [],
   "source": [
    "alpha = 100\n",
    "vals = [5,20,50,100,200,500]\n",
    "SNRs = []\n",
    "y_dash = scipy.signal.resample(y, int(Ts*sr*alpha))\n",
    "for delta in vals:\n",
    "    curr_sum = 0.0\n",
    "    output = np.zeros_like(y_dash)\n",
    "    for i,yi in enumerate(y_dash):\n",
    "        if curr_sum>=yi:\n",
    "            curr_sum-=delta\n",
    "        else:\n",
    "            curr_sum+=delta\n",
    "        output[i]=curr_sum\n",
    "        \n",
    "    P = np.mean(np.square(output))\n",
    "    mse = np.mean(np.square(output-y_dash))\n",
    "    SNRs.append(P/mse)"
   ]
  },
  {
   "cell_type": "code",
   "execution_count": 10,
   "metadata": {},
   "outputs": [
    {
     "data": {
      "image/png": "[encoded data removed]",
      "text/plain": [
       "<Figure size 432x288 with 1 Axes>"
      ]
     },
     "metadata": {
      "needs_background": "light"
     },
     "output_type": "display_data"
    }
   ],
   "source": [
    "plt.plot(vals,SNRs)\n",
    "plt.show()"
   ]
  },
  {
   "cell_type": "code",
   "execution_count": null,
   "metadata": {},
   "outputs": [],
   "source": []
  }
 ],
 "metadata": {
  "kernelspec": {
   "display_name": "Python 3",
   "language": "python",
   "name": "python3"
  },
  "language_info": {
   "codemirror_mode": {
    "name": "ipython",
    "version": 3
   },
   "file_extension": ".py",
   "mimetype": "text/x-python",
   "name": "python",
   "nbconvert_exporter": "python",
   "pygments_lexer": "ipython3",
   "version": "3.8.5"
  }
 },
 "nbformat": 4,
 "nbformat_minor": 4
}
