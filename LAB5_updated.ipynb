{
 "cells": [
  {
   "cell_type": "code",
   "execution_count": 1,
   "id": "stupid-arena",
   "metadata": {},
   "outputs": [],
   "source": [
    "import numpy as np\n",
    "import matplotlib.pyplot as plt"
   ]
  },
  {
   "cell_type": "code",
   "execution_count": 2,
   "id": "apart-madonna",
   "metadata": {},
   "outputs": [],
   "source": [
    "mymat = np.random.rand(3,5)"
   ]
  },
  {
   "cell_type": "code",
   "execution_count": 3,
   "id": "approved-grenada",
   "metadata": {},
   "outputs": [
    {
     "name": "stdout",
     "output_type": "stream",
     "text": [
      "[[0.47815194 0.88902646 0.67182427 0.25795028 0.2006149 ]\n",
      " [0.44887788 0.83902579 0.46696526 0.61434971 0.14988552]\n",
      " [0.00701679 0.67143629 0.58269563 0.51441043 0.60365866]]\n"
     ]
    }
   ],
   "source": [
    "print(mymat)"
   ]
  },
  {
   "cell_type": "code",
   "execution_count": 4,
   "id": "supported-maine",
   "metadata": {},
   "outputs": [],
   "source": [
    "def myNorm(x):\n",
    "    return np.sqrt(np.square(x).sum())\n",
    "def checkDiff(A,B):\n",
    "    return np.square(A-B).mean()"
   ]
  },
  {
   "cell_type": "code",
   "execution_count": 5,
   "id": "incorrect-phone",
   "metadata": {},
   "outputs": [],
   "source": [
    "def diagonaliseFat(mat):\n",
    "    nRows  = mat.shape[0]\n",
    "    nCols = mat.shape[1]\n",
    "    vs = []\n",
    "    us = []\n",
    "    S = np.zeros((nRows,nRows))\n",
    "    for i in range(nRows):\n",
    "        temp = mat[i]\n",
    "        for j in range(i):\n",
    "            temp -= np.dot(mat[i],vs[j].reshape(-1))*vs[j].reshape(-1)\n",
    "        vs.append((temp/myNorm(temp)).reshape(-1,1))\n",
    "    for i in range(nRows):\n",
    "        temp = np.matmul(mat,vs[i].reshape((-1,1)))\n",
    "        S[i][i] = myNorm(temp)\n",
    "        us.append(temp/S[i][i])\n",
    "    V = np.concatenate(vs, axis =1)\n",
    "    U = np.concatenate(us, axis =1)\n",
    "    return U,S,V"
   ]
  },
  {
   "cell_type": "code",
   "execution_count": 6,
   "id": "casual-journal",
   "metadata": {},
   "outputs": [],
   "source": [
    "U,S,V = diagonaliseFat(mymat)"
   ]
  },
  {
   "cell_type": "code",
   "execution_count": 7,
   "id": "agricultural-weapon",
   "metadata": {},
   "outputs": [
    {
     "name": "stdout",
     "output_type": "stream",
     "text": [
      "[[ 1.00000000e+00 -1.85266634e-15 -1.95715926e-16]\n",
      " [-1.76306586e-16  1.00000000e+00 -4.41589234e-17]\n",
      " [-2.51427542e-17 -1.11428845e-16  1.00000000e+00]]\n"
     ]
    }
   ],
   "source": [
    "print(U)"
   ]
  },
  {
   "cell_type": "code",
   "execution_count": 8,
   "id": "treated-library",
   "metadata": {},
   "outputs": [
    {
     "name": "stdout",
     "output_type": "stream",
     "text": [
      "[[ 0.38074324  0.01319441 -0.60016763]\n",
      " [ 0.70791475  0.03538106 -0.0618042 ]\n",
      " [ 0.5349608  -0.38255308  0.21905055]\n",
      " [ 0.20540087  0.91889523  0.17423467]\n",
      " [ 0.1597458  -0.08864979  0.74675176]]\n"
     ]
    }
   ],
   "source": [
    "print(V)"
   ]
  },
  {
   "cell_type": "code",
   "execution_count": 9,
   "id": "imperial-somalia",
   "metadata": {},
   "outputs": [
    {
     "name": "stdout",
     "output_type": "stream",
     "text": [
      "[[1.25583831 0.         0.        ]\n",
      " [0.         0.40820501 0.        ]\n",
      " [0.         0.         0.62234226]]\n"
     ]
    }
   ],
   "source": [
    "print(S)"
   ]
  },
  {
   "cell_type": "code",
   "execution_count": 10,
   "id": "weekly-harassment",
   "metadata": {},
   "outputs": [],
   "source": [
    "ans = np.matmul(np.matmul(U,S),V.T)"
   ]
  },
  {
   "cell_type": "code",
   "execution_count": 11,
   "id": "convenient-mistress",
   "metadata": {},
   "outputs": [
    {
     "data": {
      "text/plain": [
       "5.153031199353154e-32"
      ]
     },
     "execution_count": 11,
     "metadata": {},
     "output_type": "execute_result"
    }
   ],
   "source": [
    "checkDiff(ans,mymat)"
   ]
  },
  {
   "cell_type": "markdown",
   "id": "cleared-welcome",
   "metadata": {},
   "source": [
    "# Question 2 and 3"
   ]
  },
  {
   "cell_type": "code",
   "execution_count": 12,
   "id": "resistant-maximum",
   "metadata": {},
   "outputs": [],
   "source": [
    "bitstream = np.random.randint(2, size=96)"
   ]
  },
  {
   "cell_type": "code",
   "execution_count": 13,
   "id": "regular-subscription",
   "metadata": {},
   "outputs": [
    {
     "data": {
      "text/plain": [
       "array([0, 1, 0, 0, 0, 0, 1, 0, 1, 1, 1, 0, 1, 1, 0, 0, 0, 1, 0, 0, 0, 1,\n",
       "       1, 0, 0, 0, 1, 1, 0, 0, 0, 1, 1, 0, 1, 1, 1, 0, 1, 0, 1, 0, 0, 1,\n",
       "       1, 0, 1, 0, 0, 1, 1, 0, 1, 1, 0, 1, 0, 1, 1, 0, 0, 0, 1, 0, 0, 1,\n",
       "       1, 0, 1, 0, 1, 1, 0, 0, 1, 0, 1, 0, 0, 1, 0, 1, 0, 1, 1, 1, 1, 1,\n",
       "       1, 1, 1, 0, 0, 1, 1, 1])"
      ]
     },
     "execution_count": 13,
     "metadata": {},
     "output_type": "execute_result"
    }
   ],
   "source": [
    "bitstream"
   ]
  },
  {
   "cell_type": "markdown",
   "id": "chemical-overall",
   "metadata": {},
   "source": [
    "### BPSK"
   ]
  },
  {
   "cell_type": "code",
   "execution_count": 14,
   "id": "apart-spell",
   "metadata": {},
   "outputs": [],
   "source": [
    "M = 2\n",
    "step = round(np.log2(M))\n",
    "fc = 5e7\n",
    "dt = 1/5e8\n",
    "mbps = 5\n",
    "T = np.log2(M)/(mbps*1e6)\n",
    "L = len(bitstream)\n",
    "\n",
    "nT = round(T/dt)\n",
    "bpskOut = np.zeros(nT*L)\n",
    "bpskTheta = [2*a*np.pi/M for a in range(M)]"
   ]
  },
  {
   "cell_type": "code",
   "execution_count": 15,
   "id": "olive-program",
   "metadata": {},
   "outputs": [],
   "source": [
    "for i in range(0,L,step):\n",
    "    m =0\n",
    "    for j in range(step):\n",
    "        m = 2*m + bitstream[i+j] \n",
    "    for j in range(nT):\n",
    "        idx = int(i/step*nT+j)\n",
    "        ti = float(idx*dt)\n",
    "        angle = 2*np.pi*fc*ti+bpskTheta[m]\n",
    "        bpskOut[idx] = np.cos(angle)"
   ]
  },
  {
   "cell_type": "code",
   "execution_count": 16,
   "id": "ignored-chrome",
   "metadata": {
    "scrolled": true
   },
   "outputs": [
    {
     "data": {
      "image/png": "[encoded data removed]",
      "text/plain": [
       "<Figure size 432x288 with 1 Axes>"
      ]
     },
     "metadata": {
      "needs_background": "light"
     },
     "output_type": "display_data"
    }
   ],
   "source": [
    "t = np.arange(0,len(bpskOut)*dt, dt)\n",
    "plt.scatter(t[:200], bpskOut[:200])\n",
    "plt.show()"
   ]
  },
  {
   "cell_type": "code",
   "execution_count": 17,
   "id": "congressional-payroll",
   "metadata": {},
   "outputs": [],
   "source": [
    "out = np.zeros_like(bitstream)\n",
    "for i in range(0,L,step):\n",
    "    temp = bpskOut[i*nT:(i+1)*nT].reshape((-1,1))\n",
    "    temp/=myNorm(temp)\n",
    "    tis = (np.arange(i*nT,nT*(1+i),1.0))*dt\n",
    "    phis = np.zeros((M,nT))\n",
    "    for j in range(M):\n",
    "        angle = 2*np.pi*fc*tis+bpskTheta[j]\n",
    "        phis[j] = np.cos(angle)\n",
    "        phis[j] /= myNorm(phis[j])\n",
    "    \n",
    "    cor = np.matmul(phis,temp)\n",
    "    m = np.argmax(cor)\n",
    "    bstr = \"{0:b}\".format(m).zfill(step)\n",
    "    for j in range(step):\n",
    "        oi = 1\n",
    "        if bstr[j]=='0':\n",
    "            oi=0\n",
    "        out[i+j] = oi\n"
   ]
  },
  {
   "cell_type": "code",
   "execution_count": 18,
   "id": "working-walter",
   "metadata": {},
   "outputs": [
    {
     "data": {
      "text/plain": [
       "array([0, 1, 0, 0, 0, 0, 1, 0, 1, 1, 1, 0, 1, 1, 0, 0, 0, 1, 0, 0, 0, 1,\n",
       "       1, 0, 0, 0, 1, 1, 0, 0, 0, 1, 1, 0, 1, 1, 1, 0, 1, 0, 1, 0, 0, 1,\n",
       "       1, 0, 1, 0, 0, 1, 1, 0, 1, 1, 0, 1, 0, 1, 1, 0, 0, 0, 1, 0, 0, 1,\n",
       "       1, 0, 1, 0, 1, 1, 0, 0, 1, 0, 1, 0, 0, 1, 0, 1, 0, 1, 1, 1, 1, 1,\n",
       "       1, 1, 1, 0, 0, 1, 1, 1])"
      ]
     },
     "execution_count": 18,
     "metadata": {},
     "output_type": "execute_result"
    }
   ],
   "source": [
    "out"
   ]
  },
  {
   "cell_type": "markdown",
   "id": "diverse-huntington",
   "metadata": {},
   "source": [
    "### QPSK"
   ]
  },
  {
   "cell_type": "code",
   "execution_count": 19,
   "id": "empirical-edward",
   "metadata": {},
   "outputs": [],
   "source": [
    "M = 4\n",
    "step = round(np.log2(M))\n",
    "fc = 5e7\n",
    "dt = 1/5e8\n",
    "mbps = 5\n",
    "T = step/(mbps*1e6)\n",
    "L = len(bitstream)\n",
    "\n",
    "nT = round(T/dt)\n",
    "qpskOut = np.zeros(round(nT*L/step))\n",
    "qpskTheta = [2*a*np.pi/M for a in range(M)]"
   ]
  },
  {
   "cell_type": "code",
   "execution_count": 20,
   "id": "chemical-sociology",
   "metadata": {},
   "outputs": [
    {
     "data": {
      "text/plain": [
       "array([0, 1, 0, 0, 0, 0, 1, 0, 1, 1, 1, 0, 1, 1, 0, 0, 0, 1, 0, 0, 0, 1,\n",
       "       1, 0, 0, 0, 1, 1, 0, 0, 0, 1, 1, 0, 1, 1, 1, 0, 1, 0, 1, 0, 0, 1,\n",
       "       1, 0, 1, 0, 0, 1, 1, 0, 1, 1, 0, 1, 0, 1, 1, 0, 0, 0, 1, 0, 0, 1,\n",
       "       1, 0, 1, 0, 1, 1, 0, 0, 1, 0, 1, 0, 0, 1, 0, 1, 0, 1, 1, 1, 1, 1,\n",
       "       1, 1, 1, 0, 0, 1, 1, 1])"
      ]
     },
     "execution_count": 20,
     "metadata": {},
     "output_type": "execute_result"
    }
   ],
   "source": [
    "bitstream\n"
   ]
  },
  {
   "cell_type": "code",
   "execution_count": 21,
   "id": "black-teens",
   "metadata": {},
   "outputs": [],
   "source": [
    "for i in range(0,L,step):\n",
    "    m =0\n",
    "    for j in range(step):\n",
    "        m = 2*m + bitstream[i+j] \n",
    "    for j in range(nT):\n",
    "        idx = int(i/step*nT+j)\n",
    "        ti = float(idx*dt)\n",
    "        angle = 2*np.pi*fc*ti+qpskTheta[m]\n",
    "        qpskOut[idx] = np.cos(angle)"
   ]
  },
  {
   "cell_type": "code",
   "execution_count": 22,
   "id": "dense-entertainment",
   "metadata": {
    "scrolled": true
   },
   "outputs": [
    {
     "data": {
      "text/plain": [
       "array([ 6.12323400e-17, -5.87785252e-01, -9.51056516e-01, ...,\n",
       "       -9.51056516e-01, -9.51056516e-01, -5.87785252e-01])"
      ]
     },
     "execution_count": 22,
     "metadata": {},
     "output_type": "execute_result"
    }
   ],
   "source": [
    "qpskOut"
   ]
  },
  {
   "cell_type": "code",
   "execution_count": 23,
   "id": "talented-horizontal",
   "metadata": {},
   "outputs": [
    {
     "data": {
      "image/png": "[encoded data removed]",
      "text/plain": [
       "<Figure size 432x288 with 1 Axes>"
      ]
     },
     "metadata": {
      "needs_background": "light"
     },
     "output_type": "display_data"
    }
   ],
   "source": [
    "t = np.arange(0,len(qpskOut)*dt, dt)\n",
    "plt.scatter(t[:200], qpskOut[:200])\n",
    "plt.show()"
   ]
  },
  {
   "cell_type": "code",
   "execution_count": 24,
   "id": "gothic-citizen",
   "metadata": {},
   "outputs": [],
   "source": [
    "out = np.zeros_like(bitstream)\n",
    "for i in range(0,L,step):\n",
    "    temp = qpskOut[int(i/step*nT):int(i/step*nT)+nT].reshape((nT,1))\n",
    "    temp/=myNorm(temp)\n",
    "#     tis = (np.arange(i*nT,nT*(1+i),1.0))*dt\n",
    "    tis = (np.arange(int(i/step*nT),int(i/step*nT)+nT,1.0))*dt\n",
    "    phis = np.zeros((M,nT))\n",
    "    for j in range(M):\n",
    "        angle = 2*np.pi*fc*tis+qpskTheta[j]\n",
    "        phis[j] = np.cos(angle)\n",
    "        phis[j] /= myNorm(phis[j])\n",
    "    \n",
    "    cor = np.matmul(phis,temp)\n",
    "    m = np.argmax(cor)\n",
    "    bstr = \"{0:b}\".format(m).zfill(step)\n",
    "    for j in range(step):\n",
    "        oi = 1\n",
    "        if bstr[j]=='0':\n",
    "            oi=0\n",
    "        out[i+j] = oi\n"
   ]
  },
  {
   "cell_type": "code",
   "execution_count": 25,
   "id": "outside-limitation",
   "metadata": {},
   "outputs": [
    {
     "data": {
      "text/plain": [
       "array([0, 1, 0, 0, 0, 0, 1, 0, 1, 1, 1, 0, 1, 1, 0, 0, 0, 1, 0, 0, 0, 1,\n",
       "       1, 0, 0, 0, 1, 1, 0, 0, 0, 1, 1, 0, 1, 1, 1, 0, 1, 0, 1, 0, 0, 1,\n",
       "       1, 0, 1, 0, 0, 1, 1, 0, 1, 1, 0, 1, 0, 1, 1, 0, 0, 0, 1, 0, 0, 1,\n",
       "       1, 0, 1, 0, 1, 1, 0, 0, 1, 0, 1, 0, 0, 1, 0, 1, 0, 1, 1, 1, 1, 1,\n",
       "       1, 1, 1, 0, 0, 1, 1, 1])"
      ]
     },
     "execution_count": 25,
     "metadata": {},
     "output_type": "execute_result"
    }
   ],
   "source": [
    "out"
   ]
  },
  {
   "cell_type": "code",
   "execution_count": 26,
   "id": "honey-choice",
   "metadata": {},
   "outputs": [
    {
     "data": {
      "text/plain": [
       "0.0"
      ]
     },
     "execution_count": 26,
     "metadata": {},
     "output_type": "execute_result"
    }
   ],
   "source": [
    "checkDiff(out, bitstream)"
   ]
  },
  {
   "cell_type": "markdown",
   "id": "finished-zimbabwe",
   "metadata": {},
   "source": [
    "### 8-PSK"
   ]
  },
  {
   "cell_type": "code",
   "execution_count": 27,
   "id": "marine-sheep",
   "metadata": {},
   "outputs": [],
   "source": [
    "M = 8\n",
    "step = round(np.log2(M))\n",
    "fc = 5e7\n",
    "sr = 5e8\n",
    "dt = 1/sr\n",
    "mbps = 5\n",
    "T = step/(mbps*1e6)\n",
    "L = len(bitstream)\n",
    "\n",
    "nT = round(T/dt)\n",
    "opskOut = np.zeros(round(nT*L/step))\n",
    "opskTheta = [2*a*np.pi/M for a in range(M)]"
   ]
  },
  {
   "cell_type": "code",
   "execution_count": 28,
   "id": "pleased-equivalent",
   "metadata": {},
   "outputs": [],
   "source": [
    "for i in range(0,L,step):\n",
    "    m =0\n",
    "    for j in range(step):\n",
    "        m = 2*m + bitstream[i+j] \n",
    "    for j in range(nT):\n",
    "        idx = int(i/step*nT+j)\n",
    "        ti = float(idx*dt)\n",
    "        angle = 2*np.pi*fc*ti+opskTheta[m]\n",
    "        opskOut[idx] = np.cos(angle)"
   ]
  },
  {
   "cell_type": "code",
   "execution_count": 29,
   "id": "plain-northwest",
   "metadata": {},
   "outputs": [
    {
     "data": {
      "text/plain": [
       "array([ 6.12323400e-17, -5.87785252e-01, -9.51056516e-01, ...,\n",
       "       -8.91006524e-01, -4.53990500e-01,  1.56434465e-01])"
      ]
     },
     "execution_count": 29,
     "metadata": {},
     "output_type": "execute_result"
    }
   ],
   "source": [
    "opskOut"
   ]
  },
  {
   "cell_type": "code",
   "execution_count": 30,
   "id": "ambient-passenger",
   "metadata": {
    "scrolled": true
   },
   "outputs": [
    {
     "data": {
      "image/png": "[encoded data removed]",
      "text/plain": [
       "<Figure size 432x288 with 1 Axes>"
      ]
     },
     "metadata": {
      "needs_background": "light"
     },
     "output_type": "display_data"
    }
   ],
   "source": [
    "t = np.arange(0,len(opskOut)*dt, dt)\n",
    "plt.scatter(t[:200], opskOut[:200])\n",
    "plt.show()"
   ]
  },
  {
   "cell_type": "code",
   "execution_count": 31,
   "id": "right-auction",
   "metadata": {},
   "outputs": [],
   "source": [
    "out = np.zeros_like(bitstream)\n",
    "for i in range(0,L,step):\n",
    "    temp = opskOut[int(i/step*nT):int(i/step*nT)+nT].reshape((nT,1))\n",
    "    temp/=myNorm(temp)\n",
    "#     tis = (np.arange(i*nT,nT*(1+i),1.0))*dt\n",
    "    tis = (np.arange(int(i/step*nT),int(i/step*nT)+nT,1.0))*dt\n",
    "    phis = np.zeros((M,nT))\n",
    "    for j in range(M):\n",
    "        angle = 2*np.pi*fc*tis+opskTheta[j]\n",
    "        phis[j] = np.cos(angle)\n",
    "        phis[j] /= myNorm(phis[j])\n",
    "    \n",
    "    cor = np.matmul(phis,temp)\n",
    "    m = np.argmax(cor)\n",
    "    bstr = \"{0:b}\".format(m).zfill(step)\n",
    "    for j in range(step):\n",
    "        oi = 1\n",
    "        if bstr[j]=='0':\n",
    "            oi=0\n",
    "        out[i+j] = oi"
   ]
  },
  {
   "cell_type": "code",
   "execution_count": 32,
   "id": "known-resource",
   "metadata": {},
   "outputs": [
    {
     "data": {
      "text/plain": [
       "array([0, 1, 0, 0, 0, 0, 1, 0, 1, 1, 1, 0, 1, 1, 0, 0, 0, 1, 0, 0, 0, 1,\n",
       "       1, 0, 0, 0, 1, 1, 0, 0, 0, 1, 1, 0, 1, 1, 1, 0, 1, 0, 1, 0, 0, 1,\n",
       "       1, 0, 1, 0, 0, 1, 1, 0, 1, 1, 0, 1, 0, 1, 1, 0, 0, 0, 1, 0, 0, 1,\n",
       "       1, 0, 1, 0, 1, 1, 0, 0, 1, 0, 1, 0, 0, 1, 0, 1, 0, 1, 1, 1, 1, 1,\n",
       "       1, 1, 1, 0, 0, 1, 1, 1])"
      ]
     },
     "execution_count": 32,
     "metadata": {},
     "output_type": "execute_result"
    }
   ],
   "source": [
    "out"
   ]
  },
  {
   "cell_type": "code",
   "execution_count": 33,
   "id": "insured-missile",
   "metadata": {},
   "outputs": [
    {
     "data": {
      "text/plain": [
       "0.0"
      ]
     },
     "execution_count": 33,
     "metadata": {},
     "output_type": "execute_result"
    }
   ],
   "source": [
    "checkDiff(out, bitstream)"
   ]
  },
  {
   "cell_type": "markdown",
   "id": "female-point",
   "metadata": {},
   "source": [
    "### 16-QAM"
   ]
  },
  {
   "cell_type": "code",
   "execution_count": 13,
   "id": "temporal-graphics",
   "metadata": {},
   "outputs": [],
   "source": [
    "def smIndexer(n,nr):\n",
    "    return n//nr, n%nr"
   ]
  },
  {
   "cell_type": "code",
   "execution_count": 14,
   "id": "sunrise-cancellation",
   "metadata": {},
   "outputs": [],
   "source": [
    "M = 16\n",
    "step = round(np.log2(M))\n",
    "fc = 5e7\n",
    "sr = 5e8\n",
    "dt = 1/sr\n",
    "mbps = 5\n",
    "T = step/(mbps*1e6)\n",
    "L = len(bitstream)\n",
    "\n",
    "nT = round(T/dt)\n",
    "mx = round(np.sqrt(M))\n",
    "Ami = np.asarray([2*a-mx+1 for a in range(mx)])\n",
    "# Amq = np.copy(Ami)\n",
    "Amq = np.asarray([2*(2*a-mx+1)+1 for a in range(mx)])\n",
    "QAM16Out = np.zeros(round(nT*L/step))"
   ]
  },
  {
   "cell_type": "code",
   "execution_count": 15,
   "id": "australian-fight",
   "metadata": {},
   "outputs": [],
   "source": [
    "Amq = np.asarray([-10,-4,4,10])"
   ]
  },
  {
   "cell_type": "code",
   "execution_count": 16,
   "id": "olive-plastic",
   "metadata": {},
   "outputs": [],
   "source": [
    "for i in range(0,L,step):\n",
    "    m =0\n",
    "    for j in range(step):\n",
    "        m = 2*m + bitstream[i+j] \n",
    "    for j in range(nT):\n",
    "        idx = round(i/step*nT+j)\n",
    "        ti = float(idx*dt)\n",
    "        angle = 2*np.pi*fc*ti\n",
    "        a, b = smIndexer(m,mx)\n",
    "        A = np.complex(Ami[a],Ami[b]) \n",
    "        QAM16Out[idx] = (A*np.exp(np.complex(0,angle))).real"
   ]
  },
  {
   "cell_type": "code",
   "execution_count": 17,
   "id": "neural-creature",
   "metadata": {
    "scrolled": true
   },
   "outputs": [
    {
     "data": {
      "text/plain": [
       "array([-3.        , -4.19040674, -3.78022053, ...,  0.02400553,\n",
       "        1.8781075 ,  3.01483624])"
      ]
     },
     "execution_count": 17,
     "metadata": {},
     "output_type": "execute_result"
    }
   ],
   "source": [
    "QAM16Out"
   ]
  },
  {
   "cell_type": "code",
   "execution_count": 18,
   "id": "swiss-logistics",
   "metadata": {
    "scrolled": true
   },
   "outputs": [
    {
     "data": {
      "image/png": "[encoded data removed]",
      "text/plain": [
       "<Figure size 432x288 with 1 Axes>"
      ]
     },
     "metadata": {
      "needs_background": "light"
     },
     "output_type": "display_data"
    }
   ],
   "source": [
    "t = np.arange(0,len(QAM16Out)*dt, dt)\n",
    "plt.scatter(t[:200], QAM16Out[:200])\n",
    "plt.show()"
   ]
  },
  {
   "cell_type": "code",
   "execution_count": 19,
   "id": "becoming-harvest",
   "metadata": {},
   "outputs": [],
   "source": [
    "out = np.zeros_like(bitstream)\n",
    "for i in range(0,L,step):\n",
    "    temp = QAM16Out[int(i/step*nT):int(i/step*nT)+nT].reshape((nT,1))\n",
    "    temp/=myNorm(temp)\n",
    "#     tis = (np.arange(i*nT,nT*(1+i),1.0))*dt\n",
    "    tis = (np.arange(int(i/step*nT),int(i/step*nT)+nT,1.0))*dt\n",
    "    phis = np.zeros((M,nT))\n",
    "    for j in range(M):\n",
    "        \n",
    "        a, b = smIndexer(j,mx)\n",
    "        A = np.complex(Ami[a],Ami[b]) \n",
    "        for k in range(nT):\n",
    "            angle = 2*np.pi*fc*tis[k]\n",
    "            phis[j][k] = (A*np.exp(np.complex(0,angle))).real\n",
    "        phis[j] /= myNorm(phis[j])\n",
    "    \n",
    "    cor = np.matmul(phis,temp)\n",
    "    m = np.argmax(cor)\n",
    "    bstr = \"{0:b}\".format(m).zfill(step)\n",
    "    for j in range(step):\n",
    "        oi = 1\n",
    "        if bstr[j]=='0':\n",
    "            oi=0\n",
    "        out[i+j] = oi"
   ]
  },
  {
   "cell_type": "code",
   "execution_count": 20,
   "id": "surprised-foundation",
   "metadata": {},
   "outputs": [
    {
     "data": {
      "text/plain": [
       "array([0, 0, 1, 1, 1, 0, 1, 1, 1, 1, 0, 1, 1, 1, 1, 0, 1, 1, 1, 1, 0, 0,\n",
       "       0, 0, 0, 1, 1, 1, 0, 0, 1, 1, 1, 1, 0, 0, 0, 1, 0, 1, 0, 1, 0, 1,\n",
       "       1, 0, 0, 1, 1, 0, 1, 0, 1, 1, 1, 0, 0, 0, 0, 0, 0, 0, 1, 1, 0, 1,\n",
       "       1, 1, 1, 0, 0, 1, 1, 0, 0, 1, 1, 1, 1, 0, 1, 1, 0, 1, 1, 0, 1, 0,\n",
       "       1, 1, 1, 0, 1, 1, 1, 0])"
      ]
     },
     "execution_count": 20,
     "metadata": {},
     "output_type": "execute_result"
    }
   ],
   "source": [
    "out"
   ]
  },
  {
   "cell_type": "code",
   "execution_count": 21,
   "id": "impressed-request",
   "metadata": {},
   "outputs": [
    {
     "data": {
      "text/plain": [
       "0.14583333333333334"
      ]
     },
     "execution_count": 21,
     "metadata": {},
     "output_type": "execute_result"
    }
   ],
   "source": [
    "checkDiff(out, bitstream)"
   ]
  },
  {
   "cell_type": "markdown",
   "id": "fallen-prior",
   "metadata": {},
   "source": [
    "### 64-QAM"
   ]
  },
  {
   "cell_type": "code",
   "execution_count": 43,
   "id": "focused-legend",
   "metadata": {},
   "outputs": [],
   "source": [
    "M = 64\n",
    "step = round(np.log2(M))\n",
    "fc = 5e7\n",
    "sr = 5e8\n",
    "dt = 1/sr\n",
    "mbps = 5\n",
    "T = step/(mbps*1e6)\n",
    "L = len(bitstream)\n",
    "\n",
    "nT = round(T/dt)\n",
    "mx = round(np.sqrt(M))\n",
    "Ami = np.asarray([2*a-mx+1 for a in range(mx)])\n",
    "# Amq = np.copy(Ami)\n",
    "Amq = np.asarray([2*(2*a-mx+1) for a in range(mx)])\n",
    "QAM64Out = np.zeros(round(nT*L/step))"
   ]
  },
  {
   "cell_type": "code",
   "execution_count": 44,
   "id": "featured-treasurer",
   "metadata": {},
   "outputs": [],
   "source": [
    "for i in range(0,L,step):\n",
    "    m =0\n",
    "    for j in range(step):\n",
    "        m = 2*m + bitstream[i+j] \n",
    "    for j in range(nT):\n",
    "        idx = round(i/step*nT+j)\n",
    "        ti = float(idx*dt)\n",
    "        angle = 2*np.pi*fc*ti\n",
    "        a, b = smIndexer(m,mx)\n",
    "        A = np.complex(Ami[a],Ami[b]) \n",
    "        QAM64Out[idx] = (A*np.exp(np.complex(0,angle))).real"
   ]
  },
  {
   "cell_type": "code",
   "execution_count": 45,
   "id": "respective-glory",
   "metadata": {},
   "outputs": [
    {
     "data": {
      "text/plain": [
       "array([-3.        ,  1.68744578,  5.73034463, ...,  6.34837862,\n",
       "        6.96641261,  4.92351376])"
      ]
     },
     "execution_count": 45,
     "metadata": {},
     "output_type": "execute_result"
    }
   ],
   "source": [
    "QAM64Out"
   ]
  },
  {
   "cell_type": "code",
   "execution_count": 46,
   "id": "noble-discussion",
   "metadata": {},
   "outputs": [
    {
     "data": {
      "image/png": "[encoded data removed]",
      "text/plain": [
       "<Figure size 432x288 with 1 Axes>"
      ]
     },
     "metadata": {
      "needs_background": "light"
     },
     "output_type": "display_data"
    }
   ],
   "source": [
    "t = np.arange(0,len(QAM64Out)*dt, dt)\n",
    "plt.scatter(t[:200], QAM64Out[:200])\n",
    "plt.show()"
   ]
  },
  {
   "cell_type": "code",
   "execution_count": 47,
   "id": "freelance-howard",
   "metadata": {},
   "outputs": [],
   "source": [
    "out = np.zeros_like(bitstream)\n",
    "for i in range(0,L,step):\n",
    "    temp = QAM64Out[int(i/step*nT):int(i/step*nT)+nT].reshape((nT,1))\n",
    "    temp/=myNorm(temp)\n",
    "#     tis = (np.arange(i*nT,nT*(1+i),1.0))*dt\n",
    "    tis = (np.arange(int(i/step*nT),int(i/step*nT)+nT,1.0))*dt\n",
    "    phis = np.zeros((M,nT))\n",
    "    for j in range(M):\n",
    "        \n",
    "        a, b = smIndexer(j,mx)\n",
    "        A = np.complex(Ami[a],Ami[b]) \n",
    "        for k in range(nT):\n",
    "            angle = 2*np.pi*fc*tis[k]\n",
    "            phis[j][k] = (A*np.exp(np.complex(0,angle))).real\n",
    "        phis[j] /= myNorm(phis[j])\n",
    "    \n",
    "    cor = np.matmul(phis,temp)\n",
    "    m = np.argmax(cor)\n",
    "    bstr = \"{0:b}\".format(m).zfill(step)\n",
    "    for j in range(step):\n",
    "        oi = 1\n",
    "        if bstr[j]=='0':\n",
    "            oi=0\n",
    "        out[i+j] = oi"
   ]
  },
  {
   "cell_type": "code",
   "execution_count": 48,
   "id": "advance-framing",
   "metadata": {},
   "outputs": [
    {
     "data": {
      "text/plain": [
       "array([0, 1, 0, 0, 0, 0, 1, 0, 1, 1, 1, 0, 1, 0, 0, 0, 1, 1, 0, 0, 0, 1,\n",
       "       1, 0, 0, 0, 1, 1, 0, 0, 0, 0, 0, 0, 0, 0, 1, 0, 1, 0, 1, 0, 0, 1,\n",
       "       1, 0, 1, 0, 0, 0, 0, 0, 0, 0, 0, 1, 0, 1, 1, 0, 0, 0, 1, 0, 0, 1,\n",
       "       1, 0, 1, 0, 1, 1, 0, 0, 1, 0, 1, 0, 0, 0, 0, 1, 1, 1, 1, 0, 0, 1,\n",
       "       0, 0, 1, 0, 0, 1, 1, 1])"
      ]
     },
     "execution_count": 48,
     "metadata": {},
     "output_type": "execute_result"
    }
   ],
   "source": [
    "out"
   ]
  },
  {
   "cell_type": "code",
   "execution_count": 49,
   "id": "medical-ribbon",
   "metadata": {},
   "outputs": [
    {
     "data": {
      "text/plain": [
       "0.16666666666666666"
      ]
     },
     "execution_count": 49,
     "metadata": {},
     "output_type": "execute_result"
    }
   ],
   "source": [
    "checkDiff(out, bitstream)"
   ]
  }
 ],
 "metadata": {
  "kernelspec": {
   "display_name": "Python 3",
   "language": "python",
   "name": "python3"
  },
  "language_info": {
   "codemirror_mode": {
    "name": "ipython",
    "version": 3
   },
   "file_extension": ".py",
   "mimetype": "text/x-python",
   "name": "python",
   "nbconvert_exporter": "python",
   "pygments_lexer": "ipython3",
   "version": "3.8.5"
  }
 },
 "nbformat": 4,
 "nbformat_minor": 5
}
