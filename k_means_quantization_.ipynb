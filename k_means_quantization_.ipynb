{
  "nbformat": 4,
  "nbformat_minor": 0,
  "metadata": {
    "colab": {
      "name": "k means quantization .ipynb",
      "provenance": []
    },
    "kernelspec": {
      "name": "python3",
      "display_name": "Python 3"
    }
  },
  "cells": [
    {
      "cell_type": "code",
      "metadata": {
        "id": "MTcpMtJP3t-X"
      },
      "source": [
        "import numpy as np\n",
        "import scipy as sp\n",
        "import matplotlib.pyplot as plt"
      ],
      "execution_count": null,
      "outputs": []
    },
    {
      "cell_type": "code",
      "metadata": {
        "id": "HKjwlvh64IMZ"
      },
      "source": [
        "from sklearn.decomposition import PCA\n",
        "from scipy.spatial import Voronoi, voronoi_plot_2d"
      ],
      "execution_count": null,
      "outputs": []
    },
    {
      "cell_type": "code",
      "metadata": {
        "id": "je6r5o0eEqvO"
      },
      "source": [
        "def Cluster(vectors, means, K):\n",
        "    clusters = [[] for _ in range(K)]\n",
        "    for v in vectors:\n",
        "        min_ind = 0\n",
        "        min_dis = np.inf\n",
        "        for i,m in enumerate(means):\n",
        "            dis = np.linalg.norm(v-m)\n",
        "            if(dis < min_dis):\n",
        "                min_ind = i\n",
        "                min_dis = dis\n",
        "        clusters[min_ind].append(v)\n",
        "               \n",
        "    return clusters\n",
        "\n",
        "def UpdateMeans(clusters):\n",
        "    means = []\n",
        "    for cluster in clusters:\n",
        "        means.append(np.mean(cluster, axis=0))\n",
        "    return means\n",
        "\n",
        "def plot_kmeans(vectors, cluster_means):\n",
        "    pca = PCA(n_components=2)\n",
        "    reduced_pts = pca.fit_transform(vectors).transpose()\n",
        "    reduced_means = pca.fit_transform(cluster_means).transpose()\n",
        "    vor = Voronoi(reduced_means.transpose())\n",
        "    plt.figure(figsize=(10,10))\n",
        "    fig = voronoi_plot_2d(vor, show_vertices=False, line_colors='orange',line_width=2, line_alpha=0.6, point_size=2)\n",
        "    plt.scatter(reduced_pts[0], reduced_pts[1], color='red')\n",
        "    plt.show()"
      ],
      "execution_count": null,
      "outputs": []
    },
    {
      "cell_type": "code",
      "metadata": {
        "id": "tROWbxzjEtfz"
      },
      "source": [
        "def KMeans(vectors, K):\n",
        "    n = len(vectors)\n",
        "    vec_shape = vectors[0].shape\n",
        "    cluster_means = list(np.array(vectors)[np.random.choice(n, K, replace=False)]) ##FORGI INITIALIZATION\n",
        "    while(True):\n",
        "        clusters = Cluster(vectors, cluster_means, K)\n",
        "        cluster_means = UpdateMeans(clusters)\n",
        "        if(Cluster(vectors, cluster_means, K) == clusters):\n",
        "          break\n",
        "    return clusters, cluster_means\n"
      ],
      "execution_count": null,
      "outputs": []
    },
    {
      "cell_type": "code",
      "metadata": {
        "id": "nHi-XO7-ExXE"
      },
      "source": [
        "X1 = -2 * np.random.rand(100,3)\n",
        "X2 = 1 + 2 * np.random.rand(50,3)\n",
        "X3 = 4 - 2 * np.random.rand(50,3)\n",
        "X4 = 6 + 2 * np.random.rand(50,3)\n",
        "X5 = 8 - 2 * np.random.rand(50,3)\n",
        "X6 = 10 + 2 * np.random.rand(50,3)"
      ],
      "execution_count": null,
      "outputs": []
    },
    {
      "cell_type": "code",
      "metadata": {
        "id": "3NS40BNnGfIu"
      },
      "source": [
        "vectors = list(X1)+list(X2)+list(X3)+list(X4)+list(X5)+list(X6)"
      ],
      "execution_count": null,
      "outputs": []
    },
    {
      "cell_type": "code",
      "metadata": {
        "colab": {
          "base_uri": "https://localhost:8080/"
        },
        "id": "YvoKuD2VGgof",
        "outputId": "7739777a-1c19-4ada-ccd6-e4d167f12119"
      },
      "source": [
        "len(vectors)"
      ],
      "execution_count": null,
      "outputs": [
        {
          "output_type": "execute_result",
          "data": {
            "text/plain": [
              "350"
            ]
          },
          "metadata": {
            "tags": []
          },
          "execution_count": 36
        }
      ]
    },
    {
      "cell_type": "code",
      "metadata": {
        "id": "fEJTUkxfGiEE"
      },
      "source": [
        "clusters, cluster_means = KMeans(vectors, 6)"
      ],
      "execution_count": null,
      "outputs": []
    },
    {
      "cell_type": "code",
      "metadata": {
        "colab": {
          "base_uri": "https://localhost:8080/",
          "height": 282
        },
        "id": "JLueWRa_Gj4W",
        "outputId": "7ce8eec2-3261-41ac-ddd1-bd3069480cd0"
      },
      "source": [
        "plot_kmeans(vectors, cluster_means)"
      ],
      "execution_count": null,
      "outputs": [
        {
          "output_type": "display_data",
          "data": {
            "text/plain": [
              "<Figure size 720x720 with 0 Axes>"
            ]
          },
          "metadata": {
            "tags": []
          }
        },
        {
          "output_type": "display_data",
          "data": {
            "image/png": "[encoded data removed]",
            "text/plain": [
              "<Figure size 432x288 with 1 Axes>"
            ]
          },
          "metadata": {
            "tags": [],
            "needs_background": "light"
          }
        }
      ]
    },
    {
      "cell_type": "code",
      "metadata": {
        "id": "B755ANzMIFWz"
      },
      "source": [
        ""
      ],
      "execution_count": null,
      "outputs": []
    }
  ]
}