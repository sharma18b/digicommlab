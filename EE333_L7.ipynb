{
 "cells": [
  {
   "cell_type": "code",
   "execution_count": 75,
   "metadata": {},
   "outputs": [],
   "source": [
    "#-----------------------------Question 1---------------------\n",
    "A = [[0]*64]*16\n",
    "b = [[0]]*16"
   ]
  },
  {
   "cell_type": "code",
   "execution_count": 76,
   "metadata": {},
   "outputs": [],
   "source": [
    "import random\n",
    "for i in range(0,16):\n",
    "    for j in range(0,64):\n",
    "        A[i][j] = random.random()*100\n",
    "for i in range(0,16):\n",
    "    b[i][0]=random.random()*100"
   ]
  },
  {
   "cell_type": "code",
   "execution_count": 77,
   "metadata": {},
   "outputs": [],
   "source": [
    "import numpy as np\n",
    "A=np.array(A)\n",
    "b=np.array(b)\n",
    "x1 = np.matmul(A.transpose(),A)\n",
    "x2 = np.matmul(A.transpose(), b)\n",
    "x1 = np.linalg.inv(x1)"
   ]
  },
  {
   "cell_type": "code",
   "execution_count": 83,
   "metadata": {},
   "outputs": [
    {
     "data": {
      "text/plain": [
       "array([[ 1.37500e+01],\n",
       "       [ 1.96875e+00],\n",
       "       [-1.73750e+01],\n",
       "       [ 4.68750e-01],\n",
       "       [-4.37500e+00],\n",
       "       [-6.00000e+01],\n",
       "       [-1.12500e+00],\n",
       "       [-9.00000e+00],\n",
       "       [ 7.50000e+00],\n",
       "       [-8.50000e+00],\n",
       "       [ 3.75000e+00],\n",
       "       [-5.62500e-01],\n",
       "       [-1.91250e+01],\n",
       "       [ 2.56250e+00],\n",
       "       [ 1.60000e+01],\n",
       "       [ 1.50000e+00],\n",
       "       [-3.56250e+00],\n",
       "       [ 5.37500e+00],\n",
       "       [-1.37500e+00],\n",
       "       [-3.71875e+00],\n",
       "       [-4.31250e+00],\n",
       "       [-2.50000e+00],\n",
       "       [-3.75000e-01],\n",
       "       [-1.00000e+01],\n",
       "       [-5.00000e+00],\n",
       "       [-1.62500e+00],\n",
       "       [ 9.50000e+00],\n",
       "       [ 3.50000e+00],\n",
       "       [ 2.75000e+00],\n",
       "       [ 2.37500e+00],\n",
       "       [ 4.87500e+00],\n",
       "       [-6.25000e-01],\n",
       "       [ 3.87500e+00],\n",
       "       [ 4.50000e+00],\n",
       "       [-3.81250e+00],\n",
       "       [-3.12500e+00],\n",
       "       [ 1.00000e+00],\n",
       "       [ 1.62500e+00],\n",
       "       [ 6.87500e+00],\n",
       "       [ 3.81250e+00],\n",
       "       [-5.25000e+00],\n",
       "       [-1.60000e+01],\n",
       "       [-2.62500e+00],\n",
       "       [ 1.09375e+00],\n",
       "       [ 8.75000e-01],\n",
       "       [ 2.62500e+00],\n",
       "       [ 4.80000e+01],\n",
       "       [ 4.37500e-01],\n",
       "       [ 1.62500e+00],\n",
       "       [ 6.25000e-01],\n",
       "       [ 3.12500e-02],\n",
       "       [ 1.25000e-01],\n",
       "       [-1.93750e+00],\n",
       "       [-5.00000e+00],\n",
       "       [ 7.81250e-02],\n",
       "       [ 6.87500e-01],\n",
       "       [-6.50000e+00],\n",
       "       [-9.37500e-01],\n",
       "       [ 9.50000e+00],\n",
       "       [-3.50000e+00],\n",
       "       [-1.75000e+00],\n",
       "       [-2.50000e+00],\n",
       "       [ 1.68750e+00],\n",
       "       [-9.53125e-01]])"
      ]
     },
     "execution_count": 83,
     "metadata": {},
     "output_type": "execute_result"
    }
   ],
   "source": [
    "x = np.matmul(x1, x2)\n",
    "x"
   ]
  },
  {
   "cell_type": "code",
   "execution_count": 79,
   "metadata": {},
   "outputs": [],
   "source": [
    "#---------------------------------Question 2-----------------------------------\n",
    "z = [[0]]*64\n",
    "for i in range(0,6):\n",
    "    j = random.randint(0,63)\n",
    "    z[j][0] = random.random()*100"
   ]
  },
  {
   "cell_type": "code",
   "execution_count": 80,
   "metadata": {},
   "outputs": [],
   "source": [
    "z = np.array(z)\n",
    "d = np.matmul(A, z)"
   ]
  },
  {
   "cell_type": "code",
   "execution_count": 81,
   "metadata": {},
   "outputs": [],
   "source": [
    "x_new = np.matmul(np.linalg.inv(np.matmul(A.transpose(),A)), np.matmul(A.transpose(), d))"
   ]
  },
  {
   "cell_type": "code",
   "execution_count": 82,
   "metadata": {},
   "outputs": [
    {
     "data": {
      "text/plain": [
       "False"
      ]
     },
     "execution_count": 82,
     "metadata": {},
     "output_type": "execute_result"
    }
   ],
   "source": [
    "x_new.all()==z.all()"
   ]
  },
  {
   "cell_type": "code",
   "execution_count": 86,
   "metadata": {},
   "outputs": [
    {
     "data": {
      "text/plain": [
       "(64, 63)"
      ]
     },
     "execution_count": 86,
     "metadata": {},
     "output_type": "execute_result"
    }
   ],
   "source": [
    "#-------------------------------------Question 3----------------------------------------\n",
    "from scipy.linalg import null_space\n",
    "ns = null_space(A)\n",
    "ns.shape"
   ]
  },
  {
   "cell_type": "code",
   "execution_count": 92,
   "metadata": {},
   "outputs": [],
   "source": [
    "c= []\n",
    "y=[[0]]*64\n",
    "for i in range(0,63):\n",
    "    for j in range(0,64):\n",
    "        c.append([ns[j][i]])\n",
    "    for j in range(0,64):\n",
    "        y[j][0] = x[j][0] + c[j][0]\n",
    "    b_ = np.matmul(A,y)\n",
    "    #print(b_.all()==b.all())"
   ]
  },
  {
   "cell_type": "code",
   "execution_count": null,
   "metadata": {},
   "outputs": [],
   "source": [
    "# "
   ]
  }
 ],
 "metadata": {
  "kernelspec": {
   "display_name": "Python 3",
   "language": "python",
   "name": "python3"
  },
  "language_info": {
   "codemirror_mode": {
    "name": "ipython",
    "version": 3
   },
   "file_extension": ".py",
   "mimetype": "text/x-python",
   "name": "python",
   "nbconvert_exporter": "python",
   "pygments_lexer": "ipython3",
   "version": "3.8.1"
  }
 },
 "nbformat": 4,
 "nbformat_minor": 4
}
